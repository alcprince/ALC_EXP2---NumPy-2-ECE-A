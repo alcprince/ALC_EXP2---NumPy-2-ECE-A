{
 "cells": [
  {
   "cell_type": "markdown",
   "id": "7b2fe4e5-cbe9-41f4-86c7-0189284a4264",
   "metadata": {},
   "source": [
    "<big><b><u>EXPERIMENT 2: Number Python"
   ]
  },
  {
   "cell_type": "markdown",
   "id": "445bd350-7835-43b6-a9a5-ffba3530da55",
   "metadata": {},
   "source": [
    "Intended Learning Outcomes:\n",
    "1. To identify the codes and functions incorporated in the Numpy library\n",
    "2. To be able to apply and use the different codes and functions in creating a Python program using a\n",
    "Numpy library"
   ]
  },
  {
   "cell_type": "markdown",
   "id": "6e046b1e-448f-4a66-bcf7-902c39e099f1",
   "metadata": {},
   "source": [
    "<b><u>PA 2 - Normalization Problem"
   ]
  },
  {
   "cell_type": "code",
   "execution_count": 5,
   "id": "87e7e974-3626-4786-b6df-1ce1b8e5e571",
   "metadata": {},
   "outputs": [],
   "source": [
    "import numpy as np #Imports the NumPy Library."
   ]
  },
  {
   "cell_type": "code",
   "execution_count": 6,
   "id": "8d727ac8-0249-4625-87cf-caa3c027f8ba",
   "metadata": {},
   "outputs": [
    {
     "data": {
      "text/plain": [
       "array([[ 0.65206464, -0.84640171, -0.65541416,  0.57928718,  0.37164899],\n",
       "       [ 0.16981518,  0.68799409, -0.66324404, -1.15004306,  1.20593748],\n",
       "       [-1.05025215,  1.55160616, -1.4506893 ,  1.10075546, -1.51143086],\n",
       "       [ 0.21809044,  0.39114549,  1.21002968,  1.20184004,  1.69621547],\n",
       "       [ 0.29038013, -1.08734234, -0.8741282 , -1.1446868 , -0.8931778 ]])"
      ]
     },
     "execution_count": 6,
     "metadata": {},
     "output_type": "execute_result"
    }
   ],
   "source": [
    "data = np.load(\"X_normalized.npy\", allow_pickle=True)\n",
    "data\n",
    "\n",
    "    #Loads the .npy for the Normalization Problem."
   ]
  },
  {
   "cell_type": "markdown",
   "id": "7e8db6e2-337e-48c4-ab8e-9f240cf40d61",
   "metadata": {},
   "source": [
    "<b><u>PA 2 - Divisible by 3 Problem"
   ]
  },
  {
   "cell_type": "code",
   "execution_count": 7,
   "id": "49fa5bcb-ff1a-4010-9fd8-38d656ab7d25",
   "metadata": {},
   "outputs": [
    {
     "data": {
      "text/plain": [
       "array([   9,   36,   81,  144,  225,  324,  441,  576,  729,  900, 1089,\n",
       "       1296, 1521, 1764, 2025, 2304, 2601, 2916, 3249, 3600, 3969, 4356,\n",
       "       4761, 5184, 5625, 6084, 6561, 7056, 7569, 8100, 8649, 9216, 9801])"
      ]
     },
     "execution_count": 7,
     "metadata": {},
     "output_type": "execute_result"
    }
   ],
   "source": [
    "data2 = np.load('div_by_3.npy', allow_pickle=True)\n",
    "data2 \n",
    "\n",
    "    #Loads the .npy file for the Divisible by 3 Problem."
   ]
  }
 ],
 "metadata": {
  "kernelspec": {
   "display_name": "Python 3 (ipykernel)",
   "language": "python",
   "name": "python3"
  },
  "language_info": {
   "codemirror_mode": {
    "name": "ipython",
    "version": 3
   },
   "file_extension": ".py",
   "mimetype": "text/x-python",
   "name": "python",
   "nbconvert_exporter": "python",
   "pygments_lexer": "ipython3",
   "version": "3.13.5"
  }
 },
 "nbformat": 4,
 "nbformat_minor": 5
}
